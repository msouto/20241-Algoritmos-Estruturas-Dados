{
  "nbformat": 4,
  "nbformat_minor": 0,
  "metadata": {
    "colab": {
      "provenance": [],
      "authorship_tag": "ABX9TyOD8QTogUkX5Z1Tz9WXkmsS",
      "include_colab_link": true
    },
    "kernelspec": {
      "name": "python3",
      "display_name": "Python 3"
    },
    "language_info": {
      "name": "python"
    }
  },
  "cells": [
    {
      "cell_type": "markdown",
      "metadata": {
        "id": "view-in-github",
        "colab_type": "text"
      },
      "source": [
        "<a href=\"https://colab.research.google.com/github/msouto/20241-Algoritmos-Estruturas-Dados/blob/main/07_repeticao_com_for.ipynb\" target=\"_parent\"><img src=\"https://colab.research.google.com/assets/colab-badge.svg\" alt=\"Open In Colab\"/></a>"
      ]
    },
    {
      "cell_type": "code",
      "execution_count": 4,
      "metadata": {
        "colab": {
          "base_uri": "https://localhost:8080/"
        },
        "id": "Y3iw9NMAgSYu",
        "outputId": "c6e46e87-7b60-41d6-a6e3-d9f6e7ca9bc0"
      },
      "outputs": [
        {
          "output_type": "stream",
          "name": "stdout",
          "text": [
            "1: spam\n",
            "2: eggs\n",
            "3: bacon\n"
          ]
        }
      ],
      "source": [
        "contador = 0\n",
        "for x in ['spam', 'eggs', 'bacon']:\n",
        "  contador += 1\n",
        "  print(f\"{contador}: {x}\")"
      ]
    },
    {
      "cell_type": "code",
      "source": [
        "contador = 0\n",
        "for x in ['spam', 'eggs', 'bacon']:\n",
        "  print(f\"{contador}: {x}\")\n",
        "  contador += 1"
      ],
      "metadata": {
        "colab": {
          "base_uri": "https://localhost:8080/"
        },
        "id": "AJJmOI4GidnG",
        "outputId": "8bee345a-1225-4e7b-8a59-c9d18ff2a0fe"
      },
      "execution_count": 5,
      "outputs": [
        {
          "output_type": "stream",
          "name": "stdout",
          "text": [
            "0: spam\n",
            "1: eggs\n",
            "2: bacon\n"
          ]
        }
      ]
    },
    {
      "cell_type": "code",
      "source": [
        "T = [(1,2), (3,4), (5,6)]\n",
        "for (a,b) in T:\n",
        "  print(a,\"e\",b)"
      ],
      "metadata": {
        "colab": {
          "base_uri": "https://localhost:8080/"
        },
        "id": "P5JTQUCVjyKo",
        "outputId": "bd64faf1-4586-4628-a878-c088888c1bf0"
      },
      "execution_count": 9,
      "outputs": [
        {
          "output_type": "stream",
          "name": "stdout",
          "text": [
            "1 e 2\n",
            "3 e 4\n",
            "5 e 6\n"
          ]
        }
      ]
    },
    {
      "cell_type": "code",
      "source": [
        "#Dicionário em python\n",
        "D = {'a': 1, 'b': 2, 'c':3}\n",
        "print(type(D))\n",
        "for chave in D:\n",
        "  print(chave,\"=>\",D[chave])"
      ],
      "metadata": {
        "colab": {
          "base_uri": "https://localhost:8080/"
        },
        "id": "-1pN_9d-kYHr",
        "outputId": "711ab487-10a6-49cf-eb2f-ff75d2c33e1c"
      },
      "execution_count": 50,
      "outputs": [
        {
          "output_type": "stream",
          "name": "stdout",
          "text": [
            "<class 'dict'>\n",
            "a => 1\n",
            "b => 2\n",
            "c => 3\n"
          ]
        }
      ]
    },
    {
      "cell_type": "markdown",
      "source": [
        "# Uso do range"
      ],
      "metadata": {
        "id": "D0KFGUm2qlZH"
      }
    },
    {
      "cell_type": "code",
      "source": [
        "list(range(10))"
      ],
      "metadata": {
        "colab": {
          "base_uri": "https://localhost:8080/"
        },
        "id": "C5giPCjEmJyz",
        "outputId": "4ac529a0-2a2a-4131-b335-e8bdf7f4a0cd"
      },
      "execution_count": 18,
      "outputs": [
        {
          "output_type": "execute_result",
          "data": {
            "text/plain": [
              "[0, 1, 2, 3, 4, 5, 6, 7, 8, 9]"
            ]
          },
          "metadata": {},
          "execution_count": 18
        }
      ]
    },
    {
      "cell_type": "code",
      "source": [
        "for i in range(5):\n",
        "  print(i,\"pythons\")"
      ],
      "metadata": {
        "colab": {
          "base_uri": "https://localhost:8080/"
        },
        "id": "2NqEeNeJnAPp",
        "outputId": "2ecaf09b-99b3-45ce-d2c3-217cbe5c23ab"
      },
      "execution_count": 20,
      "outputs": [
        {
          "output_type": "stream",
          "name": "stdout",
          "text": [
            "0 pythons\n",
            "1 pythons\n",
            "2 pythons\n",
            "3 pythons\n",
            "4 pythons\n"
          ]
        }
      ]
    },
    {
      "cell_type": "code",
      "source": [
        "s = 'moises souto'\n",
        "print(\"Tamanho da palavra:\", len(s))\n",
        "for i in range(len(s)):\n",
        "  print(i,s[i],sep='-',end=' ')\n"
      ],
      "metadata": {
        "colab": {
          "base_uri": "https://localhost:8080/"
        },
        "id": "bYWr2oXMnkTr",
        "outputId": "945d7689-83cc-44b2-840e-f017cb2fcbde"
      },
      "execution_count": 33,
      "outputs": [
        {
          "output_type": "stream",
          "name": "stdout",
          "text": [
            "Tamanho da palavra: 12\n",
            "0-m 1-o 2-i 3-s 4-e 5-s 6-  7-s 8-o 9-u 10-t 11-o "
          ]
        }
      ]
    },
    {
      "cell_type": "markdown",
      "source": [
        "# Uso do Zip"
      ],
      "metadata": {
        "id": "khwUG-1_qn-G"
      }
    },
    {
      "cell_type": "code",
      "source": [
        "L1 = ['a','b','c','d']\n",
        "L2 = [1,2,3,4]\n",
        "print(list(L1))\n",
        "print(list(L2))\n",
        "compactado = zip(L1,L2)\n",
        "print(list(compactado))\n",
        "print(type(compactado)) #qual o tipo de classe ?\n",
        "print(type(list(zip(L1,L2))))\n",
        "for (x,y) in list(zip(L1,L2)):\n",
        "  print(x,\"-\",y)\n"
      ],
      "metadata": {
        "colab": {
          "base_uri": "https://localhost:8080/"
        },
        "id": "Q3qonDDNqyp-",
        "outputId": "0863785d-9d39-435e-834f-4126bbcc145c"
      },
      "execution_count": 52,
      "outputs": [
        {
          "output_type": "stream",
          "name": "stdout",
          "text": [
            "['a', 'b', 'c', 'd']\n",
            "[1, 2, 3, 4]\n",
            "[('a', 1), ('b', 2), ('c', 3), ('d', 4)]\n",
            "<class 'zip'>\n",
            "<class 'list'>\n",
            "a - 1\n",
            "b - 2\n",
            "c - 3\n",
            "d - 4\n"
          ]
        }
      ]
    }
  ]
}