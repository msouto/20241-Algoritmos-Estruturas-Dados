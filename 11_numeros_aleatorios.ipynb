{
  "nbformat": 4,
  "nbformat_minor": 0,
  "metadata": {
    "colab": {
      "provenance": [],
      "authorship_tag": "ABX9TyOx5cc57/nvxET2h244KHw0",
      "include_colab_link": true
    },
    "kernelspec": {
      "name": "python3",
      "display_name": "Python 3"
    },
    "language_info": {
      "name": "python"
    }
  },
  "cells": [
    {
      "cell_type": "markdown",
      "metadata": {
        "id": "view-in-github",
        "colab_type": "text"
      },
      "source": [
        "<a href=\"https://colab.research.google.com/github/msouto/20241-Algoritmos-Estruturas-Dados/blob/main/11_numeros_aleatorios.ipynb\" target=\"_parent\"><img src=\"https://colab.research.google.com/assets/colab-badge.svg\" alt=\"Open In Colab\"/></a>"
      ]
    },
    {
      "cell_type": "code",
      "execution_count": null,
      "metadata": {
        "colab": {
          "base_uri": "https://localhost:8080/"
        },
        "id": "mk3tLrKKolQq",
        "outputId": "a74b8a50-a0e1-454c-fa50-b03c84deeb00"
      },
      "outputs": [
        {
          "output_type": "stream",
          "name": "stdout",
          "text": [
            "72\n"
          ]
        }
      ],
      "source": [
        "import random\n",
        "\n",
        "print(random.randint(1, 100))"
      ]
    },
    {
      "cell_type": "code",
      "source": [
        "alunos = ['Daniel', 'Joao', 'Beatriz', 'Maria']\n",
        "print(random.choice(alunos))\n",
        "print(random.choice(alunos))\n",
        "print(random.choice(alunos))"
      ],
      "metadata": {
        "colab": {
          "base_uri": "https://localhost:8080/"
        },
        "id": "AcRTpWx2pQA5",
        "outputId": "9a489716-f2a2-4233-b99c-6333f57d6c89"
      },
      "execution_count": null,
      "outputs": [
        {
          "output_type": "stream",
          "name": "stdout",
          "text": [
            "Daniel\n",
            "Maria\n",
            "Beatriz\n"
          ]
        }
      ]
    },
    {
      "cell_type": "code",
      "source": [
        "alunos = ['Daniel', 'Joao', 'Beatriz', 'Maria']\n",
        "print(alunos)\n",
        "random.shuffle(alunos)\n",
        "print(alunos)"
      ],
      "metadata": {
        "colab": {
          "base_uri": "https://localhost:8080/"
        },
        "id": "uYfKJBrFqI98",
        "outputId": "5cd95251-4dad-4e0c-cc62-3317cedde608"
      },
      "execution_count": null,
      "outputs": [
        {
          "output_type": "stream",
          "name": "stdout",
          "text": [
            "['Daniel', 'Joao', 'Beatriz', 'Maria']\n",
            "['Beatriz', 'Joao', 'Daniel', 'Maria']\n"
          ]
        }
      ]
    },
    {
      "cell_type": "markdown",
      "source": [
        "# Função para embaralhar letras de uma palavra"
      ],
      "metadata": {
        "id": "2po3NgbKqhnR"
      }
    },
    {
      "cell_type": "code",
      "source": [
        "def embaralha(palavra):\n",
        "  lista = list(palavra)\n",
        "  random.shuffle(lista)\n",
        "  return ''.join(lista)\n",
        "\n",
        "palavra = embaralha('programacao')\n",
        "print(palavra)"
      ],
      "metadata": {
        "id": "lrYwk0fAqlTI",
        "colab": {
          "base_uri": "https://localhost:8080/"
        },
        "outputId": "4b0b9c21-bb3e-4333-8881-43beecef25bb"
      },
      "execution_count": 67,
      "outputs": [
        {
          "output_type": "stream",
          "name": "stdout",
          "text": [
            "orgmopaaacr\n"
          ]
        }
      ]
    }
  ]
}