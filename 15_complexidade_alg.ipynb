{
  "nbformat": 4,
  "nbformat_minor": 0,
  "metadata": {
    "colab": {
      "provenance": [],
      "authorship_tag": "ABX9TyOqgCljcUnJMXRXA+60VdPI",
      "include_colab_link": true
    },
    "kernelspec": {
      "name": "python3",
      "display_name": "Python 3"
    },
    "language_info": {
      "name": "python"
    }
  },
  "cells": [
    {
      "cell_type": "markdown",
      "metadata": {
        "id": "view-in-github",
        "colab_type": "text"
      },
      "source": [
        "<a href=\"https://colab.research.google.com/github/msouto/20241-Algoritmos-Estruturas-Dados/blob/main/15_complexidade_alg.ipynb\" target=\"_parent\"><img src=\"https://colab.research.google.com/assets/colab-badge.svg\" alt=\"Open In Colab\"/></a>"
      ]
    },
    {
      "cell_type": "markdown",
      "source": [
        "\n",
        "#1. Constante (O(1))\n",
        "A complexidade constante significa que o tempo de execução não depende do tamanho da entrada.  "
      ],
      "metadata": {
        "id": "AJAUT4jdiRBb"
      }
    },
    {
      "cell_type": "code",
      "execution_count": 21,
      "metadata": {
        "colab": {
          "base_uri": "https://localhost:8080/"
        },
        "id": "zG0pdK1CiMLG",
        "outputId": "8b17ae8d-a53d-4c96-b4f3-6bb08eaf0a21"
      },
      "outputs": [
        {
          "output_type": "execute_result",
          "data": {
            "text/plain": [
              "10"
            ]
          },
          "metadata": {},
          "execution_count": 21
        }
      ],
      "source": [
        "def constante(n):\n",
        "    return n * 2  # Operação constante\n",
        "constante(5)"
      ]
    },
    {
      "cell_type": "markdown",
      "source": [
        "# 2. Linear (O(n))\n",
        "A complexidade linear significa que o tempo de execução cresce proporcionalmente ao tamanho da entrada."
      ],
      "metadata": {
        "id": "Yh1mxR80iZvy"
      }
    },
    {
      "cell_type": "code",
      "source": [
        "def linear(n):\n",
        "    for i in range(n):\n",
        "        print(i)  # Operação linear\n",
        "\n",
        "linear(5)"
      ],
      "metadata": {
        "colab": {
          "base_uri": "https://localhost:8080/"
        },
        "id": "4IcF_xbJiaIq",
        "outputId": "544b8a9f-c4cb-4296-b92f-d04d1b1ca516"
      },
      "execution_count": 20,
      "outputs": [
        {
          "output_type": "stream",
          "name": "stdout",
          "text": [
            "0\n",
            "1\n",
            "2\n",
            "3\n",
            "4\n"
          ]
        }
      ]
    },
    {
      "cell_type": "markdown",
      "source": [
        "# 3. Logarítmica (O(log n))\n",
        "A complexidade logarítmica é frequentemente associada a algoritmos de divisão e conquista, como a busca binária."
      ],
      "metadata": {
        "id": "zSNI5S0xigQK"
      }
    },
    {
      "cell_type": "code",
      "source": [
        "def logaritmica(arr, target):\n",
        "    low, high = 0, len(arr) - 1\n",
        "    while low <= high:\n",
        "        mid = (low + high) // 2\n",
        "        if arr[mid] == target:\n",
        "            return mid\n",
        "        elif arr[mid] < target:\n",
        "            low = mid + 1\n",
        "        else:\n",
        "            high = mid - 1\n",
        "    return -1\n",
        "\n",
        "logaritmica([1,2,3,4,5],3)"
      ],
      "metadata": {
        "colab": {
          "base_uri": "https://localhost:8080/"
        },
        "id": "fwyGeSugigoK",
        "outputId": "126380e8-f50d-4306-d4fb-4ce837a806d3"
      },
      "execution_count": 19,
      "outputs": [
        {
          "output_type": "execute_result",
          "data": {
            "text/plain": [
              "2"
            ]
          },
          "metadata": {},
          "execution_count": 19
        }
      ]
    },
    {
      "cell_type": "markdown",
      "source": [
        "# 4. Logarítmica Linear (O(n log n))\n",
        "A complexidade logarítmica linear é comum em algoritmos de ordenação eficientes como o Merge Sort e o Quick Sort."
      ],
      "metadata": {
        "id": "pZhMS5H6imna"
      }
    },
    {
      "cell_type": "code",
      "source": [
        "def n_log_n(arr):\n",
        "    if len(arr) <= 1:\n",
        "        return arr\n",
        "    mid = len(arr) // 2\n",
        "    left = n_log_n(arr[:mid])\n",
        "    right = n_log_n(arr[mid:])\n",
        "    return merge(left, right)\n",
        "\n",
        "def merge(left, right):\n",
        "    result = []\n",
        "    i = j = 0\n",
        "    while i < len(left) and j < len(right):\n",
        "        if left[i] < right[j]:\n",
        "            result.append(left[i])\n",
        "            i += 1\n",
        "        else:\n",
        "            result.append(right[j])\n",
        "            j += 1\n",
        "    result.extend(left[i:])\n",
        "    result.extend(right[j:])\n",
        "    return result\n",
        "\n",
        "n_log_n([1,10,3,4,20,6,7,8,9,2])"
      ],
      "metadata": {
        "colab": {
          "base_uri": "https://localhost:8080/"
        },
        "id": "XxkR1WHpinJC",
        "outputId": "d054b7f7-e6b3-48cc-8d66-1da2d515c80a"
      },
      "execution_count": 16,
      "outputs": [
        {
          "output_type": "execute_result",
          "data": {
            "text/plain": [
              "[1, 2, 3, 4, 6, 7, 8, 9, 10, 20]"
            ]
          },
          "metadata": {},
          "execution_count": 16
        }
      ]
    },
    {
      "cell_type": "markdown",
      "source": [
        "# 5. Quadrática (O(n^2))\n",
        "A complexidade quadrática é comum em algoritmos que usam dois loops aninhados."
      ],
      "metadata": {
        "id": "ilnF5ie6itra"
      }
    },
    {
      "cell_type": "code",
      "source": [
        "def quadratica(arr):\n",
        "    for i in range(len(arr)):\n",
        "        for j in range(len(arr)):\n",
        "            print(arr[i], arr[j])  # Operação quadrática\n",
        "\n",
        "quadratica([5,5])"
      ],
      "metadata": {
        "colab": {
          "base_uri": "https://localhost:8080/"
        },
        "id": "n91zWIzOitGy",
        "outputId": "2ca54ea4-e5c6-4ca8-9b23-65744c8517f5"
      },
      "execution_count": 14,
      "outputs": [
        {
          "output_type": "stream",
          "name": "stdout",
          "text": [
            "5 5\n",
            "5 5\n",
            "5 5\n",
            "5 5\n"
          ]
        }
      ]
    },
    {
      "cell_type": "markdown",
      "source": [
        "# 6. Exponencial (O(2^n))\n",
        "A complexidade exponencial é comum em problemas que têm múltiplas escolhas em cada etapa, como na solução de problemas combinatórios."
      ],
      "metadata": {
        "id": "0kgQyxvJi1qK"
      }
    },
    {
      "cell_type": "code",
      "source": [
        "def exponencial(n):\n",
        "    if n <= 1:\n",
        "        return 1\n",
        "    else:\n",
        "        return exponencial(n - 1) + exponencial(n - 1)\n",
        "\n",
        "exponencial(5)"
      ],
      "metadata": {
        "colab": {
          "base_uri": "https://localhost:8080/"
        },
        "id": "3wKkgSL-i156",
        "outputId": "68042f0d-d6ed-4f9e-fc02-0f34a7ad3562"
      },
      "execution_count": 13,
      "outputs": [
        {
          "output_type": "execute_result",
          "data": {
            "text/plain": [
              "16"
            ]
          },
          "metadata": {},
          "execution_count": 13
        }
      ]
    },
    {
      "cell_type": "markdown",
      "source": [
        "# 7. Fatorial (O(n!))\n",
        "A complexidade fatorial é comum em algoritmos que geram todas as permutações possíveis."
      ],
      "metadata": {
        "id": "4bKRIlPPi9Zi"
      }
    },
    {
      "cell_type": "code",
      "source": [
        "def fatorial(n):\n",
        "    if n == 0:\n",
        "        return 1\n",
        "    else:\n",
        "        return n * fatorial(n - 1)\n",
        "\n",
        "fatorial(5)"
      ],
      "metadata": {
        "colab": {
          "base_uri": "https://localhost:8080/"
        },
        "id": "l_rQNon8i95C",
        "outputId": "4c0b56c3-d2df-46c2-dbfc-8308fa1dfc4a"
      },
      "execution_count": 12,
      "outputs": [
        {
          "output_type": "execute_result",
          "data": {
            "text/plain": [
              "120"
            ]
          },
          "metadata": {},
          "execution_count": 12
        }
      ]
    },
    {
      "cell_type": "markdown",
      "source": [
        "# 8. Polinomial (O(n^k))\n",
        "A complexidade polinomial é uma generalização para qualquer função polinomial. Um exemplo comum é um algoritmo de força bruta para resolver um problema."
      ],
      "metadata": {
        "id": "fZjmTB0wjCjS"
      }
    },
    {
      "cell_type": "code",
      "source": [
        "def polinomial(arr):\n",
        "    n = len(arr)\n",
        "    for i in range(n):           # O(n)\n",
        "        for j in range(n):       # O(n)\n",
        "            for k in range(n):   # O(n)\n",
        "                print(arr[i], arr[j], arr[k])  # Operação polinomial O(n^3)\n",
        "\n",
        "polinomial([5,5,5])"
      ],
      "metadata": {
        "colab": {
          "base_uri": "https://localhost:8080/"
        },
        "id": "R8GlAnB2jGUy",
        "outputId": "9a5bed23-1ab7-4818-cabb-1cef4dbd4b3c"
      },
      "execution_count": 11,
      "outputs": [
        {
          "output_type": "stream",
          "name": "stdout",
          "text": [
            "5 5 5\n",
            "5 5 5\n",
            "5 5 5\n",
            "5 5 5\n",
            "5 5 5\n",
            "5 5 5\n",
            "5 5 5\n",
            "5 5 5\n",
            "5 5 5\n",
            "5 5 5\n",
            "5 5 5\n",
            "5 5 5\n",
            "5 5 5\n",
            "5 5 5\n",
            "5 5 5\n",
            "5 5 5\n",
            "5 5 5\n",
            "5 5 5\n",
            "5 5 5\n",
            "5 5 5\n",
            "5 5 5\n",
            "5 5 5\n",
            "5 5 5\n",
            "5 5 5\n",
            "5 5 5\n",
            "5 5 5\n",
            "5 5 5\n"
          ]
        }
      ]
    }
  ]
}