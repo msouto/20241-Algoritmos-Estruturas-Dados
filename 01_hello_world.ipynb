{
  "nbformat": 4,
  "nbformat_minor": 0,
  "metadata": {
    "colab": {
      "provenance": [],
      "authorship_tag": "ABX9TyNDz/gwqhrwfFr6PifEm/kr",
      "include_colab_link": true
    },
    "kernelspec": {
      "name": "python3",
      "display_name": "Python 3"
    },
    "language_info": {
      "name": "python"
    }
  },
  "cells": [
    {
      "cell_type": "markdown",
      "metadata": {
        "id": "view-in-github",
        "colab_type": "text"
      },
      "source": [
        "<a href=\"https://colab.research.google.com/github/msouto/20241-Algoritmos-Estruturas-Dados/blob/main/01_hello_world.ipynb\" target=\"_parent\"><img src=\"https://colab.research.google.com/assets/colab-badge.svg\" alt=\"Open In Colab\"/></a>"
      ]
    },
    {
      "cell_type": "markdown",
      "source": [
        "Meu primeiro programa"
      ],
      "metadata": {
        "id": "r9I4p_H1db_I"
      }
    },
    {
      "cell_type": "code",
      "execution_count": null,
      "metadata": {
        "colab": {
          "base_uri": "https://localhost:8080/"
        },
        "id": "YQ1H5xvecJDX",
        "outputId": "30ade927-940e-4f2d-ca87-01cfc245296d"
      },
      "outputs": [
        {
          "output_type": "stream",
          "name": "stdout",
          "text": [
            "Hello, World\n"
          ]
        }
      ],
      "source": [
        "#Imprime \"Hello, World\" na tela\n",
        "print(\"Hello, World\")"
      ]
    },
    {
      "cell_type": "code",
      "source": [
        "#Variáveis em Python\n",
        "\n",
        "#Atribui a string \"Hello, World\" a variável message\n",
        "message = \"Hello, World!\"\n",
        "#Imprimir o conteúdo da variável message\n",
        "print(message)"
      ],
      "metadata": {
        "colab": {
          "base_uri": "https://localhost:8080/"
        },
        "id": "43FutxzMoeWd",
        "outputId": "045ae38d-77ea-49e8-f3da-7a3748250eeb"
      },
      "execution_count": null,
      "outputs": [
        {
          "output_type": "stream",
          "name": "stdout",
          "text": [
            "Hello, World!\n"
          ]
        }
      ]
    },
    {
      "cell_type": "code",
      "source": [
        "#Entrada de dados do usuário\n",
        "#Solicitar ao usuário que insira seu nome\n",
        "nome = input(\"Qual o seu nome?\")\n",
        "print(\"Olá, \" + nome + \"!\")"
      ],
      "metadata": {
        "colab": {
          "base_uri": "https://localhost:8080/"
        },
        "id": "N4PZGD-KtMZE",
        "outputId": "57d3784b-e2b5-47a4-b932-5bdd85a633af"
      },
      "execution_count": null,
      "outputs": [
        {
          "output_type": "stream",
          "name": "stdout",
          "text": [
            "Qual o seu nome?Moisés\n",
            "Olá, Moisés!\n"
          ]
        }
      ]
    }
  ]
}