{
  "nbformat": 4,
  "nbformat_minor": 0,
  "metadata": {
    "colab": {
      "provenance": [],
      "authorship_tag": "ABX9TyNHYqm18P3XvafQtJKNF8jT",
      "include_colab_link": true
    },
    "kernelspec": {
      "name": "python3",
      "display_name": "Python 3"
    },
    "language_info": {
      "name": "python"
    }
  },
  "cells": [
    {
      "cell_type": "markdown",
      "metadata": {
        "id": "view-in-github",
        "colab_type": "text"
      },
      "source": [
        "<a href=\"https://colab.research.google.com/github/msouto/20241-Algoritmos-Estruturas-Dados/blob/main/Atividade_05_contagem.ipynb\" target=\"_parent\"><img src=\"https://colab.research.google.com/assets/colab-badge.svg\" alt=\"Open In Colab\"/></a>"
      ]
    },
    {
      "cell_type": "code",
      "execution_count": null,
      "metadata": {
        "id": "Bd6bt09tjadh"
      },
      "outputs": [],
      "source": [
        "import string\n",
        "\n",
        "def contar_palavra(nome_arquivo, palavra):\n",
        "    try:\n",
        "        with open(nome_arquivo, \"r\") as arquivo:\n",
        "            conteudo = arquivo.read().lower()\n",
        "            # Remover pontuações\n",
        "            conteudo = conteudo.translate(str.maketrans(\"\", \"\", string.punctuation))\n",
        "            return conteudo.split().count(palavra.lower())\n",
        "    except FileNotFoundError:\n",
        "        print(f\"Arquivo {nome_arquivo} não encontrado.\")\n",
        "        return 0\n",
        "\n",
        "\n",
        "#def contar_palavra(nome_arquivo, palavra):\n",
        "#  #pass\n",
        "#  with open(nome_arquivo, \"r\") as arquivo:\n",
        "#    conteudo = arquivo.read().lower()\n",
        "#    return conteudo.split().count(palavra.lower())\n",
        "\n"
      ]
    }
  ]
}