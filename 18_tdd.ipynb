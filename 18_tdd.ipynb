{
  "nbformat": 4,
  "nbformat_minor": 0,
  "metadata": {
    "colab": {
      "provenance": [],
      "authorship_tag": "ABX9TyPXfRj/p2tLHA+dQ5BYHuZ0",
      "include_colab_link": true
    },
    "kernelspec": {
      "name": "python3",
      "display_name": "Python 3"
    },
    "language_info": {
      "name": "python"
    }
  },
  "cells": [
    {
      "cell_type": "markdown",
      "metadata": {
        "id": "view-in-github",
        "colab_type": "text"
      },
      "source": [
        "<a href=\"https://colab.research.google.com/github/msouto/20241-Algoritmos-Estruturas-Dados/blob/main/18_tdd.ipynb\" target=\"_parent\"><img src=\"https://colab.research.google.com/assets/colab-badge.svg\" alt=\"Open In Colab\"/></a>"
      ]
    },
    {
      "cell_type": "code",
      "execution_count": 16,
      "metadata": {
        "id": "gGm87v0UlhMG",
        "colab": {
          "base_uri": "https://localhost:8080/"
        },
        "outputId": "c9c2dd29-3971-4968-f4b3-4aad68faf1cd"
      },
      "outputs": [
        {
          "output_type": "stream",
          "name": "stdout",
          "text": [
            "[74, 87, 20, 82, 94, 75, 49, 31, 82, 19, 23, 25, 72, 33, 50, 14, 30, 17, 72, 62, 7, 64, 34, 71, 12, 89, 29, 100]\n",
            "[20, 80, 25, 28, 82, 34, 6, 54, 52, 16, 35, 47, 98, 14, 26, 64, 100, 40, 59, 56, 24, 44, 67, 81, 32, 74, 49, 38]\n",
            "[15, 14, 64, 21, 61, 68, 41, 84, 85, 11, 28, 61, 30, 44, 18, 20, 67, 67, 27, 78, 48, 27, 35, 10, 91, 85, 31, 32]\n"
          ]
        }
      ],
      "source": [
        "#TDD - O Test-Driven Development (TDD), ou Desenvolvimento Orientado a Testes,\n",
        "#é uma metodologia de desenvolvimento de software que enfatiza a criação e\n",
        "#execução de testes antes mesmo do desenvolvimento do código\n",
        "\n",
        "#programa para avaliar a saída de uma função dado uma entrada\n",
        "import random\n",
        "\n",
        "#esqueleto de uma função para gerar uma lista de 28 numeros aleatorios, entre 1 e 100\n",
        "def gerar_lista_aleatoria():\n",
        "  lista = []\n",
        "  for i in range(28):\n",
        "    lista.append(random.randint(1,100))\n",
        "  return lista\n",
        "print(gerar_lista_aleatoria())\n",
        "  #pass\n",
        "  #return [random.randint(1, 100) for _ in range(28)] #codigo simplficado, com Python - List Comprehension\n",
        "\n",
        "#Esqueleto de uma função para gerar uma lista de 28 numeros aleatorios distintos entre 1 e 100\n",
        "def gerar_lista_aleatoria_distintos():\n",
        "    lista = random.sample(range(1,101), 28)\n",
        "    return lista\n",
        "print(gerar_lista_aleatoria_distintos())\n",
        "  #pass\n",
        "  #return random.sample(range(1, 101), 28)\n",
        "\n",
        "#esqueleto de uma função para embaralhar a lista\n",
        "def embaralhar_lista(lista): #lembrar que os alunos nao colocaram esse argumento, na escrita original\n",
        "  random.shuffle(lista)\n",
        "  return lista\n",
        "print(embaralhar_lista(gerar_lista_aleatoria()))\n",
        "  #pass\n",
        "  #random.shuffle(lista)x\n",
        "  #return lista"
      ]
    }
  ]
}