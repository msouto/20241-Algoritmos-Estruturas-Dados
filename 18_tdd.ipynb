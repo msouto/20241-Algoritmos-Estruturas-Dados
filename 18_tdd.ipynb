{
  "nbformat": 4,
  "nbformat_minor": 0,
  "metadata": {
    "colab": {
      "provenance": [],
      "authorship_tag": "ABX9TyPHoWCxqYVo1nIIDiv0Q0N4",
      "include_colab_link": true
    },
    "kernelspec": {
      "name": "python3",
      "display_name": "Python 3"
    },
    "language_info": {
      "name": "python"
    }
  },
  "cells": [
    {
      "cell_type": "markdown",
      "metadata": {
        "id": "view-in-github",
        "colab_type": "text"
      },
      "source": [
        "<a href=\"https://colab.research.google.com/github/msouto/20241-Algoritmos-Estruturas-Dados/blob/main/18_tdd.ipynb\" target=\"_parent\"><img src=\"https://colab.research.google.com/assets/colab-badge.svg\" alt=\"Open In Colab\"/></a>"
      ]
    },
    {
      "cell_type": "code",
      "execution_count": null,
      "metadata": {
        "id": "gGm87v0UlhMG"
      },
      "outputs": [],
      "source": [
        "#TDD - O Test-Driven Development (TDD), ou Desenvolvimento Orientado a Testes,\n",
        "#é uma metodologia de desenvolvimento de software que enfatiza a criação e\n",
        "#execução de testes antes mesmo do desenvolvimento do código\n",
        "\n",
        "#programa para avaliar a saída de uma função dado uma entrada\n",
        "import random\n",
        "\n",
        "#esqueleto de uma função para gerar uma lista de 28 numeros aleatorios, entre 1 e 100\n",
        "def gerar_lista_aleatoria():\n",
        "  pass\n",
        "\n",
        "#Esqueleto de uma função para gerar uma lista de 28 numeros aleatorios distintos entre 1 e 100\n",
        "def gerar_lista_aleatoria_distintos():\n",
        "  pass\n",
        "\n",
        "#esqueleto de uma função para embaralhar a lista\n",
        "def embaralhar_lista():\n",
        "  pass"
      ]
    }
  ]
}