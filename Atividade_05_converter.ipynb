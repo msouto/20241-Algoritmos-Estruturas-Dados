{
  "nbformat": 4,
  "nbformat_minor": 0,
  "metadata": {
    "colab": {
      "provenance": [],
      "authorship_tag": "ABX9TyNQ4Ne7VLKzGihYx1XaTLVa",
      "include_colab_link": true
    },
    "kernelspec": {
      "name": "python3",
      "display_name": "Python 3"
    },
    "language_info": {
      "name": "python"
    }
  },
  "cells": [
    {
      "cell_type": "markdown",
      "metadata": {
        "id": "view-in-github",
        "colab_type": "text"
      },
      "source": [
        "<a href=\"https://colab.research.google.com/github/msouto/20241-Algoritmos-Estruturas-Dados/blob/main/Atividade_05_converter.ipynb\" target=\"_parent\"><img src=\"https://colab.research.google.com/assets/colab-badge.svg\" alt=\"Open In Colab\"/></a>"
      ]
    },
    {
      "cell_type": "code",
      "execution_count": null,
      "metadata": {
        "id": "Ln9tde2wkTLm"
      },
      "outputs": [],
      "source": [
        "def converter_para_maiusculas(nome_entrada, nome_saida):\n",
        "    with open(nome_entrada, \"r\") as arquivo_entrada:\n",
        "        conteudo = arquivo_entrada.read()\n",
        "    with open(nome_saida, \"w\") as arquivo_saida:\n",
        "        arquivo_saida.write(conteudo.upper())\n",
        "\n",
        "#def converter_para_maiusculas(nome_entrada,nome_saida):\n",
        "#  pass"
      ]
    }
  ]
}