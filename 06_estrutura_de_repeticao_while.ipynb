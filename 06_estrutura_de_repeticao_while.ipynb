{
  "nbformat": 4,
  "nbformat_minor": 0,
  "metadata": {
    "colab": {
      "provenance": [],
      "authorship_tag": "ABX9TyO8+xwOfPK8TfC2d7uPykLI",
      "include_colab_link": true
    },
    "kernelspec": {
      "name": "python3",
      "display_name": "Python 3"
    },
    "language_info": {
      "name": "python"
    }
  },
  "cells": [
    {
      "cell_type": "markdown",
      "metadata": {
        "id": "view-in-github",
        "colab_type": "text"
      },
      "source": [
        "<a href=\"https://colab.research.google.com/github/msouto/20241-Algoritmos-Estruturas-Dados/blob/main/06_estrutura_de_repeticao_while.ipynb\" target=\"_parent\"><img src=\"https://colab.research.google.com/assets/colab-badge.svg\" alt=\"Open In Colab\"/></a>"
      ]
    },
    {
      "cell_type": "code",
      "execution_count": 14,
      "metadata": {
        "colab": {
          "base_uri": "https://localhost:8080/"
        },
        "id": "ZigAqV-kcRUX",
        "outputId": "04eeb332-b335-4381-b6c7-39d544a980eb"
      },
      "outputs": [
        {
          "output_type": "stream",
          "name": "stdout",
          "text": [
            "ATCGGGCCATTTAGC TCGGGCCATTTAGC CGGGCCATTTAGC GGGCCATTTAGC GGCCATTTAGC GCCATTTAGC CCATTTAGC CATTTAGC ATTTAGC TTTAGC TTAGC TAGC AGC GC C "
          ]
        }
      ],
      "source": [
        "x = 'ATCGGGCCATTTAGC'\n",
        "while x:\n",
        "  print(x, end=' ')\n",
        "  x = x[1:]\n",
        "\n"
      ]
    },
    {
      "cell_type": "markdown",
      "source": [
        "# Contador de pares ou ímpares"
      ],
      "metadata": {
        "id": "wFqC0NFgonXo"
      }
    },
    {
      "cell_type": "code",
      "source": [
        "x = 10\n",
        "while x:\n",
        "  #print(\"Valor de x: \") #informação de debbuging (depuração)\n",
        "  #print(x)#informação de debbuging (depuração)\n",
        "  #print(\"Resultado divisão\")#informação de debbuging (depuração)\n",
        "  a= (x % 2)\n",
        "  #print(a)#informação de debbuging (depuração)\n",
        "  x-=1\n",
        "  #if x % 2 != 0: #comparação da diferença, quando o resto da\n",
        "                  #divisao, for diferente de 0\n",
        "  #if x % 2 == 1: #comparação da igualdade, se o resto da divisao\n",
        "                 #for igual a 1 -> contador de pares\n",
        "  if x % 2 != 1: #comparação da diferença, quando o resto da\n",
        "                  #divisao, for diferente de 1 -> contador de impares\n",
        "    continue\n",
        "  print(x,end=' ')"
      ],
      "metadata": {
        "colab": {
          "base_uri": "https://localhost:8080/"
        },
        "id": "Bxsl79myjGu4",
        "outputId": "17852c42-6bd1-4fc7-ffe7-fa05b99e0928"
      },
      "execution_count": 25,
      "outputs": [
        {
          "output_type": "stream",
          "name": "stdout",
          "text": [
            "9 7 5 3 1 "
          ]
        }
      ]
    },
    {
      "cell_type": "markdown",
      "source": [
        "# Verificador de números primos"
      ],
      "metadata": {
        "id": "0QC3e5IIoutu"
      }
    },
    {
      "cell_type": "code",
      "source": [
        "# O algoritmo verifica se um número Y\n",
        "# é primo ao tentar dividir Y\n",
        "# por todos os números inteiros menores que Y\n",
        "# e maior que 1, imprimindo os fatores de\n",
        "# y ou indicando que\n",
        "# y é primo.\n",
        "y=3\n",
        "x = y // 2\n",
        "while x>1:\n",
        "  if y % x == 0:\n",
        "    print('Composto: ',y, ' tem fator', x)\n",
        "    break\n",
        "  x-=1\n",
        "else:\n",
        "  print(y, \"Número primo\")"
      ],
      "metadata": {
        "colab": {
          "base_uri": "https://localhost:8080/"
        },
        "id": "wSV25lhBozXf",
        "outputId": "e239efe4-2914-4205-bc19-3d7e622cfa51"
      },
      "execution_count": 33,
      "outputs": [
        {
          "output_type": "stream",
          "name": "stdout",
          "text": [
            "3 Número primo\n"
          ]
        }
      ]
    },
    {
      "cell_type": "markdown",
      "source": [
        "# Gerador de números primos até limite"
      ],
      "metadata": {
        "id": "mm_bMTHst4zy"
      }
    },
    {
      "cell_type": "code",
      "source": [
        "# O algoritmo verifica se um número Y\n",
        "# é primo ao tentar dividir Y\n",
        "# por todos os números inteiros menores que Y\n",
        "# e maior que 1, imprimindo os fatores de\n",
        "# y ou indicando que\n",
        "# y é primo.\n",
        "limite = int(input(\"Digite o limite: \"))\n",
        "for y in range(2,limite+1):\n",
        "  x = y // 2\n",
        "  while x>1:\n",
        "    if y % x == 0:\n",
        "      print('Composto: ',y, ' tem fator', x)\n",
        "      break\n",
        "    x-=1\n",
        "  else:\n",
        "    print(y, \"Número primo\")"
      ],
      "metadata": {
        "colab": {
          "base_uri": "https://localhost:8080/"
        },
        "id": "qzZBhSPBtg3i",
        "outputId": "55fc2b22-c4ad-408e-8a6b-caf2da9ddf57"
      },
      "execution_count": 34,
      "outputs": [
        {
          "output_type": "stream",
          "name": "stdout",
          "text": [
            "Digite o limite: 100\n",
            "2 Número primo\n",
            "3 Número primo\n",
            "Composto:  4  tem fator 2\n",
            "5 Número primo\n",
            "Composto:  6  tem fator 3\n",
            "7 Número primo\n",
            "Composto:  8  tem fator 4\n",
            "Composto:  9  tem fator 3\n",
            "Composto:  10  tem fator 5\n",
            "11 Número primo\n",
            "Composto:  12  tem fator 6\n",
            "13 Número primo\n",
            "Composto:  14  tem fator 7\n",
            "Composto:  15  tem fator 5\n",
            "Composto:  16  tem fator 8\n",
            "17 Número primo\n",
            "Composto:  18  tem fator 9\n",
            "19 Número primo\n",
            "Composto:  20  tem fator 10\n",
            "Composto:  21  tem fator 7\n",
            "Composto:  22  tem fator 11\n",
            "23 Número primo\n",
            "Composto:  24  tem fator 12\n",
            "Composto:  25  tem fator 5\n",
            "Composto:  26  tem fator 13\n",
            "Composto:  27  tem fator 9\n",
            "Composto:  28  tem fator 14\n",
            "29 Número primo\n",
            "Composto:  30  tem fator 15\n",
            "31 Número primo\n",
            "Composto:  32  tem fator 16\n",
            "Composto:  33  tem fator 11\n",
            "Composto:  34  tem fator 17\n",
            "Composto:  35  tem fator 7\n",
            "Composto:  36  tem fator 18\n",
            "37 Número primo\n",
            "Composto:  38  tem fator 19\n",
            "Composto:  39  tem fator 13\n",
            "Composto:  40  tem fator 20\n",
            "41 Número primo\n",
            "Composto:  42  tem fator 21\n",
            "43 Número primo\n",
            "Composto:  44  tem fator 22\n",
            "Composto:  45  tem fator 15\n",
            "Composto:  46  tem fator 23\n",
            "47 Número primo\n",
            "Composto:  48  tem fator 24\n",
            "Composto:  49  tem fator 7\n",
            "Composto:  50  tem fator 25\n",
            "Composto:  51  tem fator 17\n",
            "Composto:  52  tem fator 26\n",
            "53 Número primo\n",
            "Composto:  54  tem fator 27\n",
            "Composto:  55  tem fator 11\n",
            "Composto:  56  tem fator 28\n",
            "Composto:  57  tem fator 19\n",
            "Composto:  58  tem fator 29\n",
            "59 Número primo\n",
            "Composto:  60  tem fator 30\n",
            "61 Número primo\n",
            "Composto:  62  tem fator 31\n",
            "Composto:  63  tem fator 21\n",
            "Composto:  64  tem fator 32\n",
            "Composto:  65  tem fator 13\n",
            "Composto:  66  tem fator 33\n",
            "67 Número primo\n",
            "Composto:  68  tem fator 34\n",
            "Composto:  69  tem fator 23\n",
            "Composto:  70  tem fator 35\n",
            "71 Número primo\n",
            "Composto:  72  tem fator 36\n",
            "73 Número primo\n",
            "Composto:  74  tem fator 37\n",
            "Composto:  75  tem fator 25\n",
            "Composto:  76  tem fator 38\n",
            "Composto:  77  tem fator 11\n",
            "Composto:  78  tem fator 39\n",
            "79 Número primo\n",
            "Composto:  80  tem fator 40\n",
            "Composto:  81  tem fator 27\n",
            "Composto:  82  tem fator 41\n",
            "83 Número primo\n",
            "Composto:  84  tem fator 42\n",
            "Composto:  85  tem fator 17\n",
            "Composto:  86  tem fator 43\n",
            "Composto:  87  tem fator 29\n",
            "Composto:  88  tem fator 44\n",
            "89 Número primo\n",
            "Composto:  90  tem fator 45\n",
            "Composto:  91  tem fator 13\n",
            "Composto:  92  tem fator 46\n",
            "Composto:  93  tem fator 31\n",
            "Composto:  94  tem fator 47\n",
            "Composto:  95  tem fator 19\n",
            "Composto:  96  tem fator 48\n",
            "97 Número primo\n",
            "Composto:  98  tem fator 49\n",
            "Composto:  99  tem fator 33\n",
            "Composto:  100  tem fator 50\n"
          ]
        }
      ]
    }
  ]
}