{
  "nbformat": 4,
  "nbformat_minor": 0,
  "metadata": {
    "colab": {
      "provenance": [],
      "authorship_tag": "ABX9TyMegP3GiLOX8mwFBTkmI1Ri",
      "include_colab_link": true
    },
    "kernelspec": {
      "name": "python3",
      "display_name": "Python 3"
    },
    "language_info": {
      "name": "python"
    }
  },
  "cells": [
    {
      "cell_type": "markdown",
      "metadata": {
        "id": "view-in-github",
        "colab_type": "text"
      },
      "source": [
        "<a href=\"https://colab.research.google.com/github/msouto/20241-Algoritmos-Estruturas-Dados/blob/main/06_estrutura_de_repeticao_while.ipynb\" target=\"_parent\"><img src=\"https://colab.research.google.com/assets/colab-badge.svg\" alt=\"Open In Colab\"/></a>"
      ]
    },
    {
      "cell_type": "code",
      "execution_count": 14,
      "metadata": {
        "colab": {
          "base_uri": "https://localhost:8080/"
        },
        "id": "ZigAqV-kcRUX",
        "outputId": "04eeb332-b335-4381-b6c7-39d544a980eb"
      },
      "outputs": [
        {
          "output_type": "stream",
          "name": "stdout",
          "text": [
            "ATCGGGCCATTTAGC TCGGGCCATTTAGC CGGGCCATTTAGC GGGCCATTTAGC GGCCATTTAGC GCCATTTAGC CCATTTAGC CATTTAGC ATTTAGC TTTAGC TTAGC TAGC AGC GC C "
          ]
        }
      ],
      "source": [
        "x = 'ATCGGGCCATTTAGC'\n",
        "while x:\n",
        "  print(x, end=' ')\n",
        "  x = x[1:]\n",
        "\n"
      ]
    },
    {
      "cell_type": "markdown",
      "source": [
        "# Contador de pares ou ímpares"
      ],
      "metadata": {
        "id": "wFqC0NFgonXo"
      }
    },
    {
      "cell_type": "code",
      "source": [
        "x = 10\n",
        "while x:\n",
        "  #print(\"Valor de x: \") #informação de debbuging (depuração)\n",
        "  #print(x)#informação de debbuging (depuração)\n",
        "  #print(\"Resultado divisão\")#informação de debbuging (depuração)\n",
        "  a= (x % 2)\n",
        "  #print(a)#informação de debbuging (depuração)\n",
        "  x-=1\n",
        "  #if x % 2 != 0: #comparação da diferença, quando o resto da\n",
        "                  #divisao, for diferente de 0\n",
        "  #if x % 2 == 1: #comparação da igualdade, se o resto da divisao\n",
        "                 #for igual a 1 -> contador de pares\n",
        "  if x % 2 != 1: #comparação da diferença, quando o resto da\n",
        "                  #divisao, for diferente de 1 -> contador de impares\n",
        "    continue\n",
        "  print(x,end=' ')"
      ],
      "metadata": {
        "colab": {
          "base_uri": "https://localhost:8080/"
        },
        "id": "Bxsl79myjGu4",
        "outputId": "17852c42-6bd1-4fc7-ffe7-fa05b99e0928"
      },
      "execution_count": 25,
      "outputs": [
        {
          "output_type": "stream",
          "name": "stdout",
          "text": [
            "9 7 5 3 1 "
          ]
        }
      ]
    },
    {
      "cell_type": "markdown",
      "source": [
        "# Verificador de números primos"
      ],
      "metadata": {
        "id": "0QC3e5IIoutu"
      }
    },
    {
      "cell_type": "code",
      "source": [
        "# O algoritmo verifica se um número Y\n",
        "# é primo ao tentar dividir Y\n",
        "# por todos os números inteiros menores que Y\n",
        "# e maior que 1, imprimindo os fatores de\n",
        "# y ou indicando que\n",
        "# y é primo.\n",
        "y=3\n",
        "x = y // 2\n",
        "while x>1:\n",
        "  if y % x == 0:\n",
        "    print('Composto: ',y, ' tem fator', x)\n",
        "    break\n",
        "  x-=1\n",
        "else:\n",
        "  print(y, \"Número primo\")"
      ],
      "metadata": {
        "colab": {
          "base_uri": "https://localhost:8080/"
        },
        "id": "wSV25lhBozXf",
        "outputId": "e239efe4-2914-4205-bc19-3d7e622cfa51"
      },
      "execution_count": 33,
      "outputs": [
        {
          "output_type": "stream",
          "name": "stdout",
          "text": [
            "3 Número primo\n"
          ]
        }
      ]
    }
  ]
}