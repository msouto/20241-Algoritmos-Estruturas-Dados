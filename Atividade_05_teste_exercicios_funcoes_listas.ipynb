{
  "nbformat": 4,
  "nbformat_minor": 0,
  "metadata": {
    "colab": {
      "provenance": [],
      "authorship_tag": "ABX9TyOrtJTbif/sK9HljTQ7iYgd",
      "include_colab_link": true
    },
    "kernelspec": {
      "name": "python3",
      "display_name": "Python 3"
    },
    "language_info": {
      "name": "python"
    }
  },
  "cells": [
    {
      "cell_type": "markdown",
      "metadata": {
        "id": "view-in-github",
        "colab_type": "text"
      },
      "source": [
        "<a href=\"https://colab.research.google.com/github/msouto/20241-Algoritmos-Estruturas-Dados/blob/main/Atividade_05_teste_exercicios_funcoes_listas.ipynb\" target=\"_parent\"><img src=\"https://colab.research.google.com/assets/colab-badge.svg\" alt=\"Open In Colab\"/></a>"
      ]
    },
    {
      "cell_type": "code",
      "execution_count": null,
      "metadata": {
        "id": "WDI5v1rJE5Jk"
      },
      "outputs": [],
      "source": [
        "import importlib.util\n",
        "import unittest\n",
        "\n",
        "# Montagem do Google Drive (assumindo que já foi montado previamente no Colab)\n",
        "caminho_base = '/content/drive/MyDrive/Colab Notebooks/'\n",
        "\n",
        "# Importando os módulos\n",
        "def importar_modulo(nome_arquivo):\n",
        "    caminho_arquivo = f\"{caminho_base}{nome_arquivo}.py\"\n",
        "    spec = importlib.util.spec_from_file_location(f\"{nome_arquivo}_module\", caminho_arquivo)\n",
        "    modulo = importlib.util.module_from_spec(spec)\n",
        "    spec.loader.exec_module(modulo)\n",
        "    return modulo\n",
        "\n",
        "palindromo_module = importar_modulo(\"palindromo\")\n",
        "contagem_module = importar_modulo(\"contagem_palavra\")\n",
        "inverter_module = importar_modulo(\"inverter_string\")\n",
        "converter_module = importar_modulo(\"converter_maiusculas\")\n",
        "contar_module = importar_modulo(\"contar_caracteres\")\n",
        "\n",
        "# Testes Unificados\n",
        "class TestListaDeExercicios(unittest.TestCase):\n",
        "\n",
        "    # Testes para o palíndromo\n",
        "    def test_palindromo_simples(self):\n",
        "        self.assertTrue(palindromo_module.eh_palindromo(\"radar\"))\n",
        "\n",
        "    def test_palindromo_com_espacos(self):\n",
        "        self.assertTrue(palindromo_module.eh_palindromo(\"A man a plan a canal Panama\"))\n",
        "\n",
        "    def test_nao_palindromo(self):\n",
        "        self.assertFalse(palindromo_module.eh_palindromo(\"algoritmo\"))\n",
        "\n",
        "    # Testes para contagem de palavras\n",
        "    def test_contagem_palavra(self):\n",
        "        with open(\"teste.txt\", \"w\") as f:\n",
        "            f.write(\"Ola mundo. O mundo é grande.\")\n",
        "        self.assertEqual(contagem_module.contar_palavra(\"teste.txt\", \"mundo\"), 2)\n",
        "\n",
        "    def test_palavra_nao_presente(self):\n",
        "        with open(\"teste.txt\", \"w\") as f:\n",
        "            f.write(\"Ola universo.\")\n",
        "        self.assertEqual(contagem_module.contar_palavra(\"teste.txt\", \"mundo\"), 0)\n",
        "\n",
        "    # Testes para inverter string\n",
        "    def test_inverter_simples(self):\n",
        "        self.assertEqual(inverter_module.inverter_string(\"algoritmo\"), \"omtirgola\")\n",
        "\n",
        "    def test_inverter_com_espacos(self):\n",
        "        self.assertEqual(inverter_module.inverter_string(\"estrutura de dados\"), \"sodad ed aruturtse\")\n",
        "\n",
        "    def test_inverter_vazio(self):\n",
        "        self.assertEqual(inverter_module.inverter_string(\"\"), \"\")\n",
        "\n",
        "    # Testes para converter para maiúsculas\n",
        "    def test_converter(self):\n",
        "        with open(\"entrada.txt\", \"w\") as f:\n",
        "            f.write(\"Python é divertido.\")\n",
        "        converter_module.converter_para_maiusculas(\"entrada.txt\", \"saida.txt\")\n",
        "        with open(\"saida.txt\", \"r\") as f:\n",
        "            conteudo = f.read()\n",
        "        self.assertEqual(conteudo, \"PYTHON É DIVERTIDO.\")\n",
        "\n",
        "    # Testes para contar caracteres\n",
        "    def test_contagem_simples(self):\n",
        "        self.assertEqual(contar_module.contar_caracteres(\"abcabc\"), {'a': 2, 'b': 2, 'c': 2})\n",
        "\n",
        "    def test_contagem_com_espacos(self):\n",
        "        self.assertEqual(contar_module.contar_caracteres(\"a b c a b c\"), {'a': 2, ' ': 5, 'b': 2, 'c': 2})\n",
        "\n",
        "    def test_contagem_vazio(self):\n",
        "        self.assertEqual(contar_module.contar_caracteres(\"\"), {})\n",
        "\n",
        "if __name__ == '__main__':\n",
        "    unittest.main(argv=[''], verbosity=2, exit=False)\n"
      ]
    }
  ]
}