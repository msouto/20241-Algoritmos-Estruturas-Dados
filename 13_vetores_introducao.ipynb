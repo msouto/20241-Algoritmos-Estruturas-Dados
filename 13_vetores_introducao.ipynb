{
  "nbformat": 4,
  "nbformat_minor": 0,
  "metadata": {
    "colab": {
      "provenance": [],
      "authorship_tag": "ABX9TyPMHpJueBNv1+lCPw2H8A2k",
      "include_colab_link": true
    },
    "kernelspec": {
      "name": "python3",
      "display_name": "Python 3"
    },
    "language_info": {
      "name": "python"
    }
  },
  "cells": [
    {
      "cell_type": "markdown",
      "metadata": {
        "id": "view-in-github",
        "colab_type": "text"
      },
      "source": [
        "<a href=\"https://colab.research.google.com/github/msouto/20241-Algoritmos-Estruturas-Dados/blob/main/13_vetores_introducao.ipynb\" target=\"_parent\"><img src=\"https://colab.research.google.com/assets/colab-badge.svg\" alt=\"Open In Colab\"/></a>"
      ]
    },
    {
      "cell_type": "code",
      "execution_count": null,
      "metadata": {
        "colab": {
          "base_uri": "https://localhost:8080/"
        },
        "id": "CQpJQylifS6O",
        "outputId": "15b8cfec-6539-4a71-8bfb-4de05a9b70c8"
      },
      "outputs": [
        {
          "output_type": "stream",
          "name": "stdout",
          "text": [
            "Familia Revoredo\n",
            "Familia Menezes\n"
          ]
        }
      ],
      "source": [
        "#Considere um edificio com diversas familias e/ou moradores por andar\n",
        "edificio_terreo = \"Familia Revoredo\"\n",
        "edificio_1o_andar = \"Familia Menezes\"\n",
        "edificio_2o_andar = \"Familia Martins\"\n",
        "edificio_3o_andar = \"Familia Pinheiro\"\n",
        "\n",
        "#Como atribuir em localizacoes do vetor, abstraindo o andar\n",
        "edificio = [\n",
        "    edificio_terreo,\n",
        "    edificio_1o_andar,\n",
        "    edificio_2o_andar,\n",
        "    edificio_3o_andar\n",
        "]\n",
        "\n",
        "print(edificio[0])\n",
        "print(edificio[1])"
      ]
    },
    {
      "cell_type": "code",
      "source": [
        "my_array = [7,24,\"Fish\",\"hat stand\"]\n",
        "print(my_array[2])"
      ],
      "metadata": {
        "colab": {
          "base_uri": "https://localhost:8080/"
        },
        "id": "2ahIxVO_hE2W",
        "outputId": "2c5f8d73-8bef-427d-f0f2-4b3a870847c1"
      },
      "execution_count": null,
      "outputs": [
        {
          "output_type": "stream",
          "name": "stdout",
          "text": [
            "Fish\n"
          ]
        }
      ]
    },
    {
      "cell_type": "code",
      "source": [
        "my_words = [\"Dudes\", \"and\"]\n",
        "print(my_words[0])\n",
        "print(my_words[1])\n",
        "my_words.append(\"Bettys\")\n",
        "print(my_words[2])"
      ],
      "metadata": {
        "colab": {
          "base_uri": "https://localhost:8080/"
        },
        "id": "wNOHWDOphTFw",
        "outputId": "5694f6e6-1bf2-4f8d-9bbf-9dd0176aabcf"
      },
      "execution_count": null,
      "outputs": [
        {
          "output_type": "stream",
          "name": "stdout",
          "text": [
            "Dudes\n",
            "and\n",
            "Bettys\n"
          ]
        }
      ]
    },
    {
      "cell_type": "code",
      "source": [
        "#lista vazia\n",
        "lista = []\n",
        "\n",
        "#uma lista com três notas\n",
        "notas = [7.5,9,8.3]\n",
        "\n",
        "#Acessar uma nota\n",
        "print(notas[0])\n",
        "\n",
        "#modificar a primeira nota\n",
        "notas[0] = 8.7\n",
        "print(notas[0])"
      ],
      "metadata": {
        "colab": {
          "base_uri": "https://localhost:8080/"
        },
        "id": "J_nyxJUfiJpw",
        "outputId": "8e0b8232-8c23-4f1a-a6c5-61665b873490"
      },
      "execution_count": null,
      "outputs": [
        {
          "output_type": "stream",
          "name": "stdout",
          "text": [
            "7.5\n",
            "8.7\n"
          ]
        }
      ]
    },
    {
      "cell_type": "code",
      "source": [
        "#Calcule a média de 5 notas\n",
        "notas = [6,7,5,8,9]\n",
        "soma = 0 #somador\n",
        "x = 0 #iteração\n",
        "while(x<5):\n",
        "  #somador\n",
        "  #soma = soma + notas[x]\n",
        "  #simplificando em python\n",
        "  soma += notas[x]\n",
        "\n",
        "  #Impressão para depuração\n",
        "  #print(x)\n",
        "  #print(soma)\n",
        "\n",
        "  #controle da iteração\n",
        "  #x = x + 1 é equiavalente a x +=1\n",
        "  x += 1\n",
        "print(\"Média: %5.2f\" % (soma/x))"
      ],
      "metadata": {
        "colab": {
          "base_uri": "https://localhost:8080/"
        },
        "id": "F1SqMdG4jZmg",
        "outputId": "c9d9e9c6-f4bc-4b59-ba30-9bca91f0651b"
      },
      "execution_count": null,
      "outputs": [
        {
          "output_type": "stream",
          "name": "stdout",
          "text": [
            "Média:  7.00\n"
          ]
        }
      ]
    },
    {
      "cell_type": "code",
      "source": [
        "palavras = ['guerra', 'paz', 'vida', 'tranquilidade']\n",
        "'guerra' in palavras\n",
        "'saúde' in palavras"
      ],
      "metadata": {
        "colab": {
          "base_uri": "https://localhost:8080/"
        },
        "id": "DIk3H6ALqDnS",
        "outputId": "191bb127-aba3-43c8-cba9-40bfd194e7c6"
      },
      "execution_count": 2,
      "outputs": [
        {
          "output_type": "execute_result",
          "data": {
            "text/plain": [
              "False"
            ]
          },
          "metadata": {},
          "execution_count": 2
        }
      ]
    },
    {
      "cell_type": "code",
      "source": [
        "for numero in range(20):\n",
        "  #print(numero)\n",
        "  if(numero % 2 == 0):\n",
        "    print(numero)"
      ],
      "metadata": {
        "colab": {
          "base_uri": "https://localhost:8080/"
        },
        "id": "MLlEoOLVrBRc",
        "outputId": "2a4b2042-7a6b-410c-918c-bc69668442e0"
      },
      "execution_count": 5,
      "outputs": [
        {
          "output_type": "stream",
          "name": "stdout",
          "text": [
            "0\n",
            "2\n",
            "4\n",
            "6\n",
            "8\n",
            "10\n",
            "12\n",
            "14\n",
            "16\n",
            "18\n"
          ]
        }
      ]
    },
    {
      "cell_type": "code",
      "source": [
        "for fruta in [\"banana\", \"abacaxi\", \"laranja\"]:\n",
        "  print(\"Eu gosto de comer \" + fruta + \"s!\")"
      ],
      "metadata": {
        "colab": {
          "base_uri": "https://localhost:8080/"
        },
        "id": "fdkkgGZ3r-RP",
        "outputId": "8085b64a-225f-43ac-b219-d296c543b5e0"
      },
      "execution_count": 7,
      "outputs": [
        {
          "output_type": "stream",
          "name": "stdout",
          "text": [
            "Eu gosto de comer bananas!\n",
            "Eu gosto de comer abacaxis!\n",
            "Eu gosto de comer laranjas!\n"
          ]
        }
      ]
    },
    {
      "cell_type": "code",
      "source": [
        "#Operações com listas\n",
        "\n",
        "#concatenção\n",
        "a=[1,2,3]\n",
        "b=[4,5,6]\n",
        "c = a + b\n",
        "print(c)"
      ],
      "metadata": {
        "colab": {
          "base_uri": "https://localhost:8080/"
        },
        "id": "XCJ3ileMsifX",
        "outputId": "e3547d1b-910c-4a1b-d6d7-2b641bff3990"
      },
      "execution_count": 10,
      "outputs": [
        {
          "output_type": "stream",
          "name": "stdout",
          "text": [
            "[1, 2, 3, 4, 5, 6]\n"
          ]
        }
      ]
    },
    {
      "cell_type": "code",
      "source": [
        "#Repetição\n",
        "d = [0] * 4\n",
        "print(d)\n",
        "\n",
        "e = [1,2,3] * 3\n",
        "print(e)"
      ],
      "metadata": {
        "colab": {
          "base_uri": "https://localhost:8080/"
        },
        "id": "IgikwCb0s94J",
        "outputId": "fc4c8594-5c6b-4f9b-b074-4c21e6d392a0"
      },
      "execution_count": 12,
      "outputs": [
        {
          "output_type": "stream",
          "name": "stdout",
          "text": [
            "[0, 0, 0, 0]\n",
            "[1, 2, 3, 1, 2, 3, 1, 2, 3]\n"
          ]
        }
      ]
    },
    {
      "cell_type": "code",
      "source": [
        "#Slicing ou fatiamento de uma lista\n",
        "lista = ['a','b','c','d','e','f']\n",
        "print(lista[1:3])\n",
        "print(lista[:4])\n",
        "print(lista[3:])\n",
        "print(lista[:])"
      ],
      "metadata": {
        "colab": {
          "base_uri": "https://localhost:8080/"
        },
        "id": "g3ps89zptUNR",
        "outputId": "dc800112-c448-4f07-e9f0-186ade8d9656"
      },
      "execution_count": 20,
      "outputs": [
        {
          "output_type": "stream",
          "name": "stdout",
          "text": [
            "['b', 'c']\n",
            "['a', 'b', 'c', 'd']\n",
            "['d', 'e', 'f']\n",
            "['a', 'b', 'c', 'd', 'e', 'f']\n"
          ]
        }
      ]
    },
    {
      "cell_type": "code",
      "source": [
        "a = ['um', 'dois', 'tres']\n",
        "print(a)\n",
        "del a[1]\n",
        "print(a)"
      ],
      "metadata": {
        "colab": {
          "base_uri": "https://localhost:8080/"
        },
        "id": "79EexRblvrgw",
        "outputId": "1419f5a8-63be-4cb6-816a-2920fa079c5a"
      },
      "execution_count": 21,
      "outputs": [
        {
          "output_type": "stream",
          "name": "stdout",
          "text": [
            "['um', 'dois', 'tres']\n",
            "['um', 'tres']\n"
          ]
        }
      ]
    },
    {
      "cell_type": "code",
      "source": [
        "lista = ['a','b','c','d','e','f']\n",
        "print(lista)\n",
        "del lista[1:5]\n",
        "print(lista)"
      ],
      "metadata": {
        "colab": {
          "base_uri": "https://localhost:8080/"
        },
        "id": "aenBa73ewT4C",
        "outputId": "0d14c325-c605-4891-ee93-ddc7b45f9518"
      },
      "execution_count": 22,
      "outputs": [
        {
          "output_type": "stream",
          "name": "stdout",
          "text": [
            "['a', 'b', 'c', 'd', 'e', 'f']\n",
            "['a', 'f']\n"
          ]
        }
      ]
    },
    {
      "cell_type": "code",
      "source": [
        "#Clonagem de listas\n",
        "\n",
        "a = [1,2,3]\n",
        "b=a #referencia\n",
        "print(b)\n",
        "b[0]=5\n",
        "print(b)\n",
        "print(a)\n",
        "\n",
        "#clonar\n",
        "a = [1,2,3]\n",
        "b = a[:]\n",
        "print(b)\n",
        "b[0]=5\n",
        "print(b)\n",
        "print(a)"
      ],
      "metadata": {
        "colab": {
          "base_uri": "https://localhost:8080/"
        },
        "id": "WUO-0axCxn_B",
        "outputId": "74815ab9-0095-4946-ef47-353701011224"
      },
      "execution_count": 27,
      "outputs": [
        {
          "output_type": "stream",
          "name": "stdout",
          "text": [
            "[1, 2, 3]\n",
            "[5, 2, 3]\n",
            "[5, 2, 3]\n",
            "[1, 2, 3]\n",
            "[5, 2, 3]\n",
            "[1, 2, 3]\n"
          ]
        }
      ]
    }
  ]
}