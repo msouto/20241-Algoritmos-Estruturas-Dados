{
  "nbformat": 4,
  "nbformat_minor": 0,
  "metadata": {
    "colab": {
      "provenance": [],
      "authorship_tag": "ABX9TyP2cKKLZ7FpBTZI1IGXk/ne",
      "include_colab_link": true
    },
    "kernelspec": {
      "name": "python3",
      "display_name": "Python 3"
    },
    "language_info": {
      "name": "python"
    }
  },
  "cells": [
    {
      "cell_type": "markdown",
      "metadata": {
        "id": "view-in-github",
        "colab_type": "text"
      },
      "source": [
        "<a href=\"https://colab.research.google.com/github/msouto/20241-Algoritmos-Estruturas-Dados/blob/main/Atividade_04_exercicios_revisao.ipynb\" target=\"_parent\"><img src=\"https://colab.research.google.com/assets/colab-badge.svg\" alt=\"Open In Colab\"/></a>"
      ]
    },
    {
      "cell_type": "markdown",
      "source": [
        "# Questão 5\n",
        "## 5. Desenvolva um programa que monitore a qualidade da água de um reservatório usando um loop while.\n"
      ],
      "metadata": {
        "id": "RcEXit5jO_nY"
      }
    },
    {
      "cell_type": "markdown",
      "source": [
        "### Resolução via prompt chatGPT (não é válido como resolução do exercício)"
      ],
      "metadata": {
        "id": "OH6SaMtlRTAn"
      }
    },
    {
      "cell_type": "code",
      "execution_count": 1,
      "metadata": {
        "colab": {
          "base_uri": "https://localhost:8080/"
        },
        "id": "DHx376VZOLrd",
        "outputId": "d77a504c-5314-47c4-d2f5-ca716806ac47"
      },
      "outputs": [
        {
          "output_type": "stream",
          "name": "stdout",
          "text": [
            "Digite a leitura da qualidade da água ou -1 para sair10\n",
            "Digite a leitura da qualidade da água ou -1 para sair20\n",
            "Digite a leitura da qualidade da água ou -1 para sair30\n",
            "Digite a leitura da qualidade da água ou -1 para sair40\n",
            "Digite a leitura da qualidade da água ou -1 para sair50\n",
            "Digite a leitura da qualidade da água ou -1 para sair60\n",
            "Digite a leitura da qualidade da água ou -1 para sair70\n",
            "Digite a leitura da qualidade da água ou -1 para sair80\n",
            "Digite a leitura da qualidade da água ou -1 para sair90\n",
            "Digite a leitura da qualidade da água ou -1 para sair100\n",
            "Digite a leitura da qualidade da água ou -1 para sair-1\n",
            "A média da qualidade da água é: 55.0\n"
          ]
        }
      ],
      "source": [
        "#O primiero desafio nessa questão é abstrair o escopo e a complexidade\n",
        "qualidade = []\n",
        "while True:\n",
        "  leitura = float(input(\"Digite a leitura da qualidade da água ou -1 para sair\"))\n",
        "  if leitura == -1:\n",
        "    break\n",
        "  qualidade.append(leitura)\n",
        "  #calculo da media de qualidade\n",
        "media_qualidade = sum(qualidade) / len(qualidade)\n",
        "print(f\"A média da qualidade da água é: {media_qualidade}\")"
      ]
    },
    {
      "cell_type": "markdown",
      "source": [
        "### Solução de Louis Rodrigues"
      ],
      "metadata": {
        "id": "tLCqJvUdR1z4"
      }
    },
    {
      "cell_type": "markdown",
      "source": [
        "Os parâmetros estabelecidos para o monitoramento da qualidade da água, no Brasil, são definidos pela Resolução CONAMA 357/2005. Os principais parâmetros e seus valores máximos permitidos para águas doces superficiais, que são as mais comuns de serem monitoradas, são: o pH (entre 6,0 e 9,0), a Turbidez (Máximo de 100 UNT (Unidades Nefelométricas de Turbidez)), Oxigênio Dissolvido (OD) (Mínimo de 5 mg/L (miligramas por litro), exceto para águas salobras e salinas, onde o valor mínimo é de 4 mg/L.), Coliformes Termotolerantes (Ausência em 100 mL de água para águas destinadas ao abastecimento público e águas para recreação de contato primário), a Demanda Bioquímica de Oxigênio (DBO) (Máximo de 5 mg/L para Classe 1 (água destinada ao abastecimento humano sem tratamento convencional)), Nitrato (Máximo de 10 mg/L para águas destinadas ao abastecimento humano) e Fosfato Total (Máximo de 0,1 mg/L para águas destinadas ao abastecimento humano).\n",
        "\n",
        "Considerando que a água não é salobra ou salina, que é para abastecimento público, para classe 1, foi desenvolvido a lógica da próxima questão."
      ],
      "metadata": {
        "id": "1an5dyEcSze5"
      }
    },
    {
      "cell_type": "code",
      "source": [
        "# 5. Desenvolva um programa que monitore a qualidade da água de um\n",
        "#reservatório usando um loop while.\n",
        "# pH_padrão = entre 6.0 e 9.0 / Turbidez = menor ou igual a que 100 /\n",
        "#OD = min 5mg/l / Coliformes = ausencia em 100 ml / DBO = até 5mg/l /\n",
        "#Nitrato = até 10 mg/l / Fosfato = até 0,1 mg/l\n",
        "\n",
        "# ATENÇÃO: FALTA COLOCAR CONDIÇÃO PARA QUE O RESULTADO NÃO POSSA SER\n",
        "#DIFERENTE DE S MINUSCULO EM NENHUM DOS PARÂMETROS\n",
        "\n",
        "resultado_final = []\n",
        "print('Seja bem vindo(a) ao Programa de Diagnóstico de Qualidade de Água! insira os dados abaixo para a análise.')\n",
        "pergunta_inicial = 'S'\n",
        "while pergunta_inicial in 'Ss':\n",
        "  #7 variáveis\n",
        "  resultado = 7\n",
        "  #utilizando a lógica do CONAMA\n",
        "  ph = float(input('Valor do pH: '))\n",
        "  Turbidez = float(input('Valor da Turbidez em UNT: '))\n",
        "  OD = float(input('Valor do Oxigênio Dissolvido em mg/L: '))\n",
        "  CT = float(input('Valor dos Coliformes Termotolerantes em 100ml da amostra: '))\n",
        "  DBO = float(input('Valor da DBO em mg/L: '))\n",
        "  Nitrato = float(input('Quantidade de Nitrato em mg/L: '))\n",
        "  Fosfato = float(input('Quantidade de Fosfato em mg/L: '))\n",
        "  print('-=-'*30)\n",
        "  # pH_padrão = entre 6.0 e 9.0\n",
        "  if ph >= 6.0 and ph <= 9.0:\n",
        "    print('O pH da amostra se encontra dentro do padrão estabelecido')\n",
        "    resultado -= 1\n",
        "  else:\n",
        "    print('O pH da amostra não está dentro do padrão estabelecido')\n",
        "  # Turbidez = menor ou igual a que 100\n",
        "  if Turbidez <= 100:\n",
        "    print('A turbidez da amostra se encontra dentro do padrão estabelecido')\n",
        "    resultado -= 1\n",
        "  else:\n",
        "    print('A turbidez da amostra não está dentro do padrão estabelecido')\n",
        "   # OD = min 5mg/l\n",
        "  if OD >= 5:\n",
        "    print('O Oxigênio Dissolvido da amostra se encontra dentro do padrão estabelecido')\n",
        "    resultado -= 1\n",
        "  else:\n",
        "    print('O Oxigênio Dissolvido da amostra não está dentro do padrão estabelecido')\n",
        "  # Coliformes = ausencia em 100 ml\n",
        "  if CT == 0:\n",
        "    print('O valor de Coliformes Termotolerantes da amostra está dentro do padrão estabelecido')\n",
        "    resultado -= 1\n",
        "  else:\n",
        "    print('O valor de Coliformes Termotelerântes da amostra não está dentro do padrão estabelecido')\n",
        "  # DBO = até 5mg/l\n",
        "  if DBO <= 5:\n",
        "    print('O DBO da amostra está dentro do padrão estabelecido')\n",
        "    resultado -= 1\n",
        "  else:\n",
        "    print('O DBO da amostra não está dentro do padrão estabelecido')\n",
        "  # Nitrato = até 10 mg/l\n",
        "  if Nitrato <= 10:\n",
        "    print('O Nitrato da amostra está dentro do padrão estabelecido')\n",
        "    resultado -= 1\n",
        "  else:\n",
        "    print('O Nitrato da amostra não está dentro do padrão estabelecido')\n",
        "  # Fosfato = até 0,1 mg/l\n",
        "  if Fosfato <= 0.1:\n",
        "    print('O fosfato total da amostra está dentro do padrão estabelecido')\n",
        "    resultado -= 1\n",
        "  else:\n",
        "    print('O fosfato total da amostra não está dentro do padrão estabelecido')\n",
        "  print('=-='*30)\n",
        "  resultado_final.append(resultado) # adiciona o resultado da amostra na lista de resultados\n",
        "\n",
        "  pergunta_inicial = str(input('Deseja fazer uma nova análise de qualidade de uma amostra de água [S/N:]')).strip()[0]\n",
        "  if pergunta_inicial not in 'NnSs':\n",
        "    pergunta_inicial = str(input('Não entendi. Deseja fazer a análise de qualidade de uma amostra de água [S/N:]')).strip()[0]\n",
        "  if pergunta_inicial in 'Nn':\n",
        "    break\n",
        "print('=-='*30)\n",
        "\n",
        "# Verificando o resultado final após todas as amostras\n",
        "if all(resultado == 0 for resultado in resultado_final):\n",
        "    print('Todas as amostras de água estão dentro dos padrões. Logo a água está própria para consumo, de acordo com os padrões de qualidade estabelecidos pela Resolução CONAMA 357/2005')\n",
        "else:\n",
        "    print('Pelo menos uma das amostras de água NÃO está dentro dos padrões. Logo, de acordo com os padrões de qualidade estabelecidos pela Resolução CONAMA 357/2005, a água está IMPRÓPRIA')\n"
      ],
      "metadata": {
        "colab": {
          "base_uri": "https://localhost:8080/"
        },
        "id": "lzzj_rSER02w",
        "outputId": "aec0372e-1926-4af9-b7a0-979db63abe75"
      },
      "execution_count": 2,
      "outputs": [
        {
          "output_type": "stream",
          "name": "stdout",
          "text": [
            "Seja bem vindo(a) ao Programa de Diagnóstico de Qualidade de Água! insira os dados abaixo para a análise.\n",
            "Valor do pH: 6\n",
            "Valor da Turbidez em UNT: 3\n",
            "Valor do Oxigênio Dissolvido em mg/L: 5\n",
            "Valor dos Coliformes Termotolerantes em 100ml da amostra: 0\n",
            "Valor da DBO em mg/L: 5\n",
            "Quantidade de Nitrato em mg/L: 3\n",
            "Quantidade de Fosfato em mg/L: 3\n",
            "-=--=--=--=--=--=--=--=--=--=--=--=--=--=--=--=--=--=--=--=--=--=--=--=--=--=--=--=--=--=-\n",
            "O pH da amostra se encontra dentro do padrão estabelecido\n",
            "A turbidez da amostra se encontra dentro do padrão estabelecido\n",
            "O Oxigênio Dissolvido da amostra se encontra dentro do padrão estabelecido\n",
            "O valor de Coliformes Termotolerantes da amostra está dentro do padrão estabelecido\n",
            "O DBO da amostra está dentro do padrão estabelecido\n",
            "O Nitrato da amostra está dentro do padrão estabelecido\n",
            "O fosfato total da amostra não está dentro do padrão estabelecido\n",
            "=-==-==-==-==-==-==-==-==-==-==-==-==-==-==-==-==-==-==-==-==-==-==-==-==-==-==-==-==-==-=\n",
            "Deseja fazer uma nova análise de qualidade de uma amostra de água [S/N:]N\n",
            "=-==-==-==-==-==-==-==-==-==-==-==-==-==-==-==-==-==-==-==-==-==-==-==-==-==-==-==-==-==-=\n",
            "Pelo menos uma das amostras de água NÃO está dentro dos padrões. Logo, de acordo com os padrões de qualidade estabelecidos pela Resolução CONAMA 357/2005, a água está IMPRÓPRIA\n"
          ]
        }
      ]
    },
    {
      "cell_type": "markdown",
      "source": [
        "### Solução Daniel Moreira"
      ],
      "metadata": {
        "id": "t7BeNqmeUSsx"
      }
    },
    {
      "cell_type": "code",
      "source": [
        "print(\"Insira o nível de pH da água para verificar se está dentro do padrão aceito.\")\n",
        "qualidade = True\n",
        "\n",
        "while qualidade:\n",
        "  nivel_ph = float(input(\"Digite o nível de pH: \"))\n",
        "\n",
        "  if nivel_ph == 7.0:\n",
        "    print(\"Atenção: O nível de pH está neutro\")\n",
        "  elif nivel_ph > 7.0:\n",
        "    print(\"Atenção: o nível de pH está básico.\")\n",
        "  elif nivel_ph < 7.0:\n",
        "    print(\"Atenção: o nível de pH está ácido.\")\n",
        "  else:\n",
        "    print(\"O nível do pH está dentro dos padrões aceitáveis.\")\n",
        "qualidade = False"
      ],
      "metadata": {
        "colab": {
          "base_uri": "https://localhost:8080/",
          "height": 478
        },
        "id": "K0LAt-sNUgU4",
        "outputId": "65253805-8302-49f5-c354-21a825549301"
      },
      "execution_count": 3,
      "outputs": [
        {
          "output_type": "stream",
          "name": "stdout",
          "text": [
            "Insira o nível de pH da água para verificar se está dentro do padrão aceito.\n",
            "Digite o nível de pH: 7\n",
            "Atenção: O nível de pH está neutro\n",
            "Digite o nível de pH: 4\n",
            "Atenção: o nível de pH está ácido.\n",
            "Digite o nível de pH: 8\n",
            "Atenção: o nível de pH está básico.\n"
          ]
        },
        {
          "output_type": "error",
          "ename": "KeyboardInterrupt",
          "evalue": "Interrupted by user",
          "traceback": [
            "\u001b[0;31m---------------------------------------------------------------------------\u001b[0m",
            "\u001b[0;31mKeyboardInterrupt\u001b[0m                         Traceback (most recent call last)",
            "\u001b[0;32m<ipython-input-3-6f3b2f9d98bc>\u001b[0m in \u001b[0;36m<cell line: 4>\u001b[0;34m()\u001b[0m\n\u001b[1;32m      3\u001b[0m \u001b[0;34m\u001b[0m\u001b[0m\n\u001b[1;32m      4\u001b[0m \u001b[0;32mwhile\u001b[0m \u001b[0mqualidade\u001b[0m\u001b[0;34m:\u001b[0m\u001b[0;34m\u001b[0m\u001b[0;34m\u001b[0m\u001b[0m\n\u001b[0;32m----> 5\u001b[0;31m   \u001b[0mnivel_ph\u001b[0m \u001b[0;34m=\u001b[0m \u001b[0mfloat\u001b[0m\u001b[0;34m(\u001b[0m\u001b[0minput\u001b[0m\u001b[0;34m(\u001b[0m\u001b[0;34m\"Digite o nível de pH: \"\u001b[0m\u001b[0;34m)\u001b[0m\u001b[0;34m)\u001b[0m\u001b[0;34m\u001b[0m\u001b[0;34m\u001b[0m\u001b[0m\n\u001b[0m\u001b[1;32m      6\u001b[0m \u001b[0;34m\u001b[0m\u001b[0m\n\u001b[1;32m      7\u001b[0m   \u001b[0;32mif\u001b[0m \u001b[0mnivel_ph\u001b[0m \u001b[0;34m==\u001b[0m \u001b[0;36m7.0\u001b[0m\u001b[0;34m:\u001b[0m\u001b[0;34m\u001b[0m\u001b[0;34m\u001b[0m\u001b[0m\n",
            "\u001b[0;32m/usr/local/lib/python3.10/dist-packages/ipykernel/kernelbase.py\u001b[0m in \u001b[0;36mraw_input\u001b[0;34m(self, prompt)\u001b[0m\n\u001b[1;32m    849\u001b[0m                 \u001b[0;34m\"raw_input was called, but this frontend does not support input requests.\"\u001b[0m\u001b[0;34m\u001b[0m\u001b[0;34m\u001b[0m\u001b[0m\n\u001b[1;32m    850\u001b[0m             )\n\u001b[0;32m--> 851\u001b[0;31m         return self._input_request(str(prompt),\n\u001b[0m\u001b[1;32m    852\u001b[0m             \u001b[0mself\u001b[0m\u001b[0;34m.\u001b[0m\u001b[0m_parent_ident\u001b[0m\u001b[0;34m,\u001b[0m\u001b[0;34m\u001b[0m\u001b[0;34m\u001b[0m\u001b[0m\n\u001b[1;32m    853\u001b[0m             \u001b[0mself\u001b[0m\u001b[0;34m.\u001b[0m\u001b[0m_parent_header\u001b[0m\u001b[0;34m,\u001b[0m\u001b[0;34m\u001b[0m\u001b[0;34m\u001b[0m\u001b[0m\n",
            "\u001b[0;32m/usr/local/lib/python3.10/dist-packages/ipykernel/kernelbase.py\u001b[0m in \u001b[0;36m_input_request\u001b[0;34m(self, prompt, ident, parent, password)\u001b[0m\n\u001b[1;32m    893\u001b[0m             \u001b[0;32mexcept\u001b[0m \u001b[0mKeyboardInterrupt\u001b[0m\u001b[0;34m:\u001b[0m\u001b[0;34m\u001b[0m\u001b[0;34m\u001b[0m\u001b[0m\n\u001b[1;32m    894\u001b[0m                 \u001b[0;31m# re-raise KeyboardInterrupt, to truncate traceback\u001b[0m\u001b[0;34m\u001b[0m\u001b[0;34m\u001b[0m\u001b[0m\n\u001b[0;32m--> 895\u001b[0;31m                 \u001b[0;32mraise\u001b[0m \u001b[0mKeyboardInterrupt\u001b[0m\u001b[0;34m(\u001b[0m\u001b[0;34m\"Interrupted by user\"\u001b[0m\u001b[0;34m)\u001b[0m \u001b[0;32mfrom\u001b[0m \u001b[0;32mNone\u001b[0m\u001b[0;34m\u001b[0m\u001b[0;34m\u001b[0m\u001b[0m\n\u001b[0m\u001b[1;32m    896\u001b[0m             \u001b[0;32mexcept\u001b[0m \u001b[0mException\u001b[0m \u001b[0;32mas\u001b[0m \u001b[0me\u001b[0m\u001b[0;34m:\u001b[0m\u001b[0;34m\u001b[0m\u001b[0;34m\u001b[0m\u001b[0m\n\u001b[1;32m    897\u001b[0m                 \u001b[0mself\u001b[0m\u001b[0;34m.\u001b[0m\u001b[0mlog\u001b[0m\u001b[0;34m.\u001b[0m\u001b[0mwarning\u001b[0m\u001b[0;34m(\u001b[0m\u001b[0;34m\"Invalid Message:\"\u001b[0m\u001b[0;34m,\u001b[0m \u001b[0mexc_info\u001b[0m\u001b[0;34m=\u001b[0m\u001b[0;32mTrue\u001b[0m\u001b[0;34m)\u001b[0m\u001b[0;34m\u001b[0m\u001b[0;34m\u001b[0m\u001b[0m\n",
            "\u001b[0;31mKeyboardInterrupt\u001b[0m: Interrupted by user"
          ]
        }
      ]
    },
    {
      "cell_type": "markdown",
      "source": [
        "### Solução Clara Medeiros\n",
        "Fonte: https://tratamentodeagua.com.br/artigo/qualidade-da-agua/"
      ],
      "metadata": {
        "id": "SZhHFkN4U78j"
      }
    },
    {
      "cell_type": "code",
      "source": [
        "from typing_extensions import runtime\n",
        "print ('*** Monitoramento da Qualidade de Água do Reservatório ***')\n",
        "\n",
        "qualidade_agua = 0\n",
        "contador = 0\n",
        "repete = True\n",
        "\n",
        "while repete == True:\n",
        "  valor = float(input('Insira o valor encontrado: \\n'))\n",
        "  qualidade_agua = qualidade_agua + valor\n",
        "  contador = contador + 1\n",
        "\n",
        "  continua = (input('Você deseja inserir outro valor? (s/n): '))\n",
        "  if continua == 's':\n",
        "    repete = True\n",
        "  elif continua == 'n':\n",
        "    repete = False\n",
        "  else:\n",
        "    print('Esta não é uma opção válida. Novos valores não serão recebidos. \\n')\n",
        "    break\n",
        "\n",
        "media = qualidade_agua / contador\n",
        "print ()\n",
        "print (f'A média das notas inseridas é: {media:.1f} .')\n",
        "\n",
        "if media >= 90:\n",
        "  print ('O nível de qualidade da água é excelente!')\n",
        "\n",
        "elif media >= 70 and media < 90:\n",
        "  print ('O nível de qualidade da água é bom!')\n",
        "\n",
        "elif media >= 50 and media < 70:\n",
        "  print ('O nível de qualidade da água é médio!')\n",
        "\n",
        "elif media >= 25 and media < 50:\n",
        "  print ('O nível de qualidade da água é ruim!')\n",
        "\n",
        "else:\n",
        "  print ('O nível de qualidade da água é muito ruim!')\n",
        "\n",
        ""
      ],
      "metadata": {
        "colab": {
          "base_uri": "https://localhost:8080/"
        },
        "id": "5EcqS4tSVerA",
        "outputId": "e60c8a75-32ea-4492-9ef9-a6d1e64a49cf"
      },
      "execution_count": 4,
      "outputs": [
        {
          "output_type": "stream",
          "name": "stdout",
          "text": [
            "*** Monitoramento da Qualidade de Água do Reservatório ***\n",
            "Insira o valor encontrado: \n",
            "25\n",
            "Você deseja inserir outro valor? (s/n): s\n",
            "Insira o valor encontrado: \n",
            "25\n",
            "Você deseja inserir outro valor? (s/n): s\n",
            "Insira o valor encontrado: \n",
            "25\n",
            "Você deseja inserir outro valor? (s/n): n\n",
            "\n",
            "A média das notas inseridas é: 25.0 .\n",
            "O nível de qualidade da água é ruim!\n"
          ]
        }
      ]
    }
  ]
}