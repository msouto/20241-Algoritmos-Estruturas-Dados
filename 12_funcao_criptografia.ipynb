{
  "nbformat": 4,
  "nbformat_minor": 0,
  "metadata": {
    "colab": {
      "provenance": [],
      "authorship_tag": "ABX9TyMgquCICBRYxLZd4lnml6jQ",
      "include_colab_link": true
    },
    "kernelspec": {
      "name": "python3",
      "display_name": "Python 3"
    },
    "language_info": {
      "name": "python"
    }
  },
  "cells": [
    {
      "cell_type": "markdown",
      "metadata": {
        "id": "view-in-github",
        "colab_type": "text"
      },
      "source": [
        "<a href=\"https://colab.research.google.com/github/msouto/20241-Algoritmos-Estruturas-Dados/blob/main/12_funcao_criptografia.ipynb\" target=\"_parent\"><img src=\"https://colab.research.google.com/assets/colab-badge.svg\" alt=\"Open In Colab\"/></a>"
      ]
    },
    {
      "cell_type": "code",
      "execution_count": 8,
      "metadata": {
        "colab": {
          "base_uri": "https://localhost:8080/"
        },
        "id": "-D3rAhoOS-dZ",
        "outputId": "f4b40d9b-f002-4568-9515-38f86ee6a812"
      },
      "outputs": [
        {
          "output_type": "stream",
          "name": "stdout",
          "text": [
            "Digite a mensagem para criptografar:Temos uma mensagem\n",
            "Mensagem criptografada: ٔ٥٭ٯٳؠٵ٭١ؠ٭٥ٮٳ١٧٥٭\n",
            "Mensagem descriptografada: Temos uma mensagem\n"
          ]
        }
      ],
      "source": [
        "#Criptografia\n",
        "def criptografa(msg):\n",
        "  s = \"\"\n",
        "  #Cifra de césar (adaptada)\n",
        "  for i in msg:\n",
        "    s += chr(ord(i)+1536)\n",
        "  return s\n",
        "\n",
        "\n",
        "def descriptografar(msg):\n",
        "  s = \"\"\n",
        "  for i in msg:\n",
        "    s += chr(ord(i)-1536)\n",
        "  return s\n",
        "\n",
        "mensagem = input(\"Digite a mensagem para criptografar:\")\n",
        "mensagem_criptografada = criptografa(mensagem)\n",
        "print(\"Mensagem criptografada:\", mensagem_criptografada)\n",
        "\n",
        "mensagem_descriptografada = descriptografar(mensagem_criptografada)\n",
        "print(\"Mensagem descriptografada:\", mensagem_descriptografada)"
      ]
    }
  ]
}