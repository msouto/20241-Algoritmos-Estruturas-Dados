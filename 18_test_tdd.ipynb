{
  "nbformat": 4,
  "nbformat_minor": 0,
  "metadata": {
    "colab": {
      "provenance": [],
      "authorship_tag": "ABX9TyNwmkoHbsDZeBIgvW7E5SLo",
      "include_colab_link": true
    },
    "kernelspec": {
      "name": "python3",
      "display_name": "Python 3"
    },
    "language_info": {
      "name": "python"
    }
  },
  "cells": [
    {
      "cell_type": "markdown",
      "metadata": {
        "id": "view-in-github",
        "colab_type": "text"
      },
      "source": [
        "<a href=\"https://colab.research.google.com/github/msouto/20241-Algoritmos-Estruturas-Dados/blob/main/18_test_tdd.ipynb\" target=\"_parent\"><img src=\"https://colab.research.google.com/assets/colab-badge.svg\" alt=\"Open In Colab\"/></a>"
      ]
    },
    {
      "cell_type": "code",
      "execution_count": null,
      "metadata": {
        "id": "4tji4KDdmtPa",
        "colab": {
          "base_uri": "https://localhost:8080/"
        },
        "outputId": "be301f7c-327b-49f1-948d-3bc4f64a9a2c"
      },
      "outputs": [
        {
          "output_type": "stream",
          "name": "stdout",
          "text": [
            "Drive already mounted at /content/drive; to attempt to forcibly remount, call drive.mount(\"/content/drive\", force_remount=True).\n"
          ]
        }
      ],
      "source": [
        "from google.colab import drive\n",
        "import os\n",
        "import importlib.util\n",
        "\n",
        "drive.mount('/content/drive')\n",
        "\n",
        "#navegar pro diretorio de destino\n",
        "os.chdir('/content/drive/MyDrive/Colab Notebooks/20241_alg_est')\n",
        "\n",
        "#montar o arquivo\n",
        "spec = importlib.util.spec_from_file_location(\"18_tdd.ipynb\", \"/content/drive/MyDrive/Colab Notebooks/20241_alg_est/18_tdd.ipynb\")\n",
        "meu_arquivo = importlib.util.module_from_spec(spec)\n",
        "spec.loader.exec_module(meu_arquivo)"
      ]
    }
  ]
}